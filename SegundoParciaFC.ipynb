{
 "cells": [
  {
   "cell_type": "code",
   "execution_count": 4,
   "metadata": {},
   "outputs": [
    {
     "name": "stdout",
     "output_type": "stream",
     "text": [
      "Digite Temparura en Kelvin:100\n",
      "CV:  5053.7727451485525\n"
     ]
    },
    {
     "data": {
      "text/plain": [
       "Text(0,0.5,'Cv')"
      ]
     },
     "execution_count": 4,
     "metadata": {},
     "output_type": "execute_result"
    },
    {
     "data": {
      "image/png": "[encoded data removed]",
      "text/plain": [
       "<Figure size 432x288 with 1 Axes>"
      ]
     },
     "metadata": {
      "needs_background": "light"
     },
     "output_type": "display_data"
    }
   ],
   "source": [
    "#\"Exercise 5.9: Heat capacity of a solid\"\n",
    "#DIEGO ALEJANDRO PALACIOS\n",
    "#JOHAN MANTILLA CAMARGO\n",
    "\n",
    "import numpy as np\n",
    "import matplotlib.pyplot as plt\n",
    "from math import*\n",
    "from numpy import*\n",
    "from pylab import *\n",
    "from pylab import plot, grid, show\n",
    "          \n",
    "\n",
    "\n",
    "\n",
    "v=0.001           # number density in m**-3\n",
    "p=6.022e28\n",
    "T=int(input(\"Digite Temparura en Kelvin:\"))\n",
    "\n",
    "D=428            # Debye temperature in K\n",
    "kb=1.3806e-23    # Boltzmann's constant in J*K**-1\n",
    "C=(9)*(v)*(p)*(kb)*((T/D)**3)\n",
    "\n",
    "\n",
    "\n",
    "def funcionx(x):\n",
    "    f=x**4/(exp(2)-2+1/exp(x))\n",
    "    return(f)\n",
    "\n",
    "a = 0\n",
    "b = D/T\n",
    "N = 50           # sample points\n",
    "\n",
    "h = (b-a)/N\n",
    "x = a\n",
    "area = 0\n",
    "for i in range(N//2):\n",
    "    TethaA = C*(h/3)*(funcionx(x)+4*funcionx(x+h)+funcionx(x+2*h))\n",
    "    area=area+TethaA\n",
    "    x = x + 2*h\n",
    "\n",
    "print('CV: ', area)\n",
    "\n",
    "T = linspace(5,500,100)\n",
    "C= [funcionx(Ti) for Ti in T]\n",
    "plot(T,C)\n",
    "grid()\n",
    "\n",
    "xlabel('Temperatura, [K]')\n",
    "ylabel('Cv')"
   ]
  },
  {
   "cell_type": "code",
   "execution_count": null,
   "metadata": {},
   "outputs": [],
   "source": [
    "#\"Exercise 5.10 Period of an anharmonic oscillator\"\n",
    "#DIEGO ALEJANDRO PALACIOS\n",
    "#JOHAN MANTILLA CAMARGO\n",
    "#parte b\n",
    "\n",
    "import numpy as np\n",
    "import matplotlib.pyplot as plt\n",
    "from math import*\n",
    "from numpy import*\n",
    "from pylab import *\n",
    "from pylab import plot, grid, show\n",
    "\n",
    "N=20\n",
    "a=int(input(\"Digite la amplitud en [m]: \"))\n",
    "b=2\n",
    "h=(b-a)/N\n",
    "cte=sqrt(8)\n",
    "it_1=0\n",
    "it_2=0\n",
    "\n",
    "\n",
    "for k in range(1,(N//2)+1):\n",
    "    x1=a+(2*k-1)*h\n",
    "    y1=1/sqrt(2+x1**4)\n",
    "    it_1+=y1\n",
    "for k in range(1,((N//2)-1)+1):\n",
    "    x2=a+(2*k*h)\n",
    "    y2=1/sqrt(2+x2**4)\n",
    "    it_2+=y2\n",
    "I=4*it_1+2*it_2\n",
    "It=(h/3)*cte*((1/sqrt(2+a**4)+1/sqrt(2+b**4))+I)\n",
    "print('Por Simpson..\\nLa integral, calculado I, es I =',abs(It))\n",
    "\n",
    "\n",
    "\n",
    "A= linspace(0,2)\n",
    "It= [funcionx(Ai) for Ai in A]\n",
    "plot(A,It,'or')\n",
    "xlabel('Amplitud, [m]')\n",
    "ylabel('Periodo T, [s]')\n",
    "grid()"
   ]
  },
  {
   "cell_type": "code",
   "execution_count": null,
   "metadata": {},
   "outputs": [],
   "source": []
  }
 ],
 "metadata": {
  "kernelspec": {
   "display_name": "Python 3",
   "language": "python",
   "name": "python3"
  },
  "language_info": {
   "codemirror_mode": {
    "name": "ipython",
    "version": 3
   },
   "file_extension": ".py",
   "mimetype": "text/x-python",
   "name": "python",
   "nbconvert_exporter": "python",
   "pygments_lexer": "ipython3",
   "version": "3.7.3"
  }
 },
 "nbformat": 4,
 "nbformat_minor": 2
}
